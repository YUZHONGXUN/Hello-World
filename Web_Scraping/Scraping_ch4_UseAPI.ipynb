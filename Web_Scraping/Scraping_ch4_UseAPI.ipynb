{
 "cells": [
  {
   "cell_type": "code",
   "execution_count": 1,
   "metadata": {},
   "outputs": [
    {
     "ename": "ModuleNotFoundError",
     "evalue": "No module named 'twitter'",
     "output_type": "error",
     "traceback": [
      "\u001b[1;31m---------------------------------------------------------------------------\u001b[0m",
      "\u001b[1;31mModuleNotFoundError\u001b[0m                       Traceback (most recent call last)",
      "\u001b[1;32m<ipython-input-1-66582025aa0d>\u001b[0m in \u001b[0;36m<module>\u001b[1;34m()\u001b[0m\n\u001b[0;32m      9\u001b[0m \u001b[1;31m# 尋找特定的 tweet\u001b[0m\u001b[1;33m\u001b[0m\u001b[1;33m\u001b[0m\u001b[0m\n\u001b[0;32m     10\u001b[0m \u001b[1;33m\u001b[0m\u001b[0m\n\u001b[1;32m---> 11\u001b[1;33m \u001b[1;32mfrom\u001b[0m \u001b[0mtwitter\u001b[0m \u001b[1;32mimport\u001b[0m \u001b[0mTwitter\u001b[0m\u001b[1;33m\u001b[0m\u001b[0m\n\u001b[0m\u001b[0;32m     12\u001b[0m \u001b[0mt\u001b[0m \u001b[1;33m=\u001b[0m \u001b[0mTwitter\u001b[0m\u001b[1;33m(\u001b[0m\u001b[0mauth\u001b[0m\u001b[1;33m=\u001b[0m\u001b[0mOAth\u001b[0m\u001b[1;33m(\u001b[0m\u001b[1;34m'<Access Token>'\u001b[0m\u001b[1;33m,\u001b[0m \u001b[1;34m'<Access Tocken Secret>'\u001b[0m\u001b[1;33m,\u001b[0m \u001b[1;34m'<Consumer Key>'\u001b[0m\u001b[1;33m,\u001b[0m \u001b[1;34m'<Consumer Secret>'\u001b[0m\u001b[1;33m)\u001b[0m\u001b[1;33m)\u001b[0m\u001b[1;33m\u001b[0m\u001b[0m\n\u001b[0;32m     13\u001b[0m \u001b[0mpythonTweets\u001b[0m \u001b[1;33m=\u001b[0m \u001b[0mt\u001b[0m\u001b[1;33m.\u001b[0m\u001b[0msearch\u001b[0m\u001b[1;33m.\u001b[0m\u001b[0mtweet\u001b[0m\u001b[1;33m(\u001b[0m\u001b[0mq\u001b[0m \u001b[1;33m=\u001b[0m \u001b[1;34m'#python'\u001b[0m\u001b[1;33m)\u001b[0m\u001b[1;33m\u001b[0m\u001b[0m\n",
      "\u001b[1;31mModuleNotFoundError\u001b[0m: No module named 'twitter'"
     ]
    }
   ],
   "source": [
    "'''\n",
    "使用 API\n",
    "application programming interface, API\n",
    "為了讓需要彼此共享資料的不同軟體之間擁有用同介面而設計\n",
    "http://freegeoip.net/json/50.78.253.58\n",
    "GET、POST、PUT、DELETE\n",
    "''' \n",
    "# Twitter OAuth\n",
    "# 尋找特定的 tweet\n",
    "\n",
    "from twitter import Twitter\n",
    "\n",
    "t = Twitter(auth=OAth('<Access Token>', '<Access Tocken Secret>', '<Consumer Key>', '<Consumer Secret>'))\n",
    "pythonTweets = t.search.tweet(q = '#python')\n",
    "print(pythonTweets)"
   ]
  },
  {
   "cell_type": "code",
   "execution_count": 3,
   "metadata": {},
   "outputs": [
    {
     "ename": "ModuleNotFoundError",
     "evalue": "No module named 'twitter'",
     "output_type": "error",
     "traceback": [
      "\u001b[1;31m---------------------------------------------------------------------------\u001b[0m",
      "\u001b[1;31mModuleNotFoundError\u001b[0m                       Traceback (most recent call last)",
      "\u001b[1;32m<ipython-input-3-6e7be7a28a56>\u001b[0m in \u001b[0;36m<module>\u001b[1;34m()\u001b[0m\n\u001b[0;32m      1\u001b[0m \u001b[1;31m# 單一 tweet 的範例輸出\u001b[0m\u001b[1;33m\u001b[0m\u001b[1;33m\u001b[0m\u001b[0m\n\u001b[0;32m      2\u001b[0m \u001b[1;33m\u001b[0m\u001b[0m\n\u001b[1;32m----> 3\u001b[1;33m \u001b[1;32mfrom\u001b[0m \u001b[0mtwitter\u001b[0m \u001b[1;32mimport\u001b[0m \u001b[0mTwitter\u001b[0m\u001b[1;33m,\u001b[0m \u001b[0mOAuth\u001b[0m\u001b[1;33m\u001b[0m\u001b[0m\n\u001b[0m\u001b[0;32m      4\u001b[0m \u001b[1;33m\u001b[0m\u001b[0m\n\u001b[0;32m      5\u001b[0m \u001b[0mt\u001b[0m \u001b[1;33m=\u001b[0m \u001b[0mTwitter\u001b[0m\u001b[1;33m(\u001b[0m\u001b[0mauth\u001b[0m\u001b[1;33m=\u001b[0m\u001b[0mOAth\u001b[0m\u001b[1;33m(\u001b[0m\u001b[1;34m'<Access Token>'\u001b[0m\u001b[1;33m,\u001b[0m \u001b[1;34m'<Access Tocken Secret>'\u001b[0m\u001b[1;33m,\u001b[0m \u001b[1;34m'<Consumer Key>'\u001b[0m\u001b[1;33m,\u001b[0m \u001b[1;34m'<Consumer Secret>'\u001b[0m\u001b[1;33m)\u001b[0m\u001b[1;33m)\u001b[0m\u001b[1;33m\u001b[0m\u001b[0m\n",
      "\u001b[1;31mModuleNotFoundError\u001b[0m: No module named 'twitter'"
     ]
    }
   ],
   "source": [
    "# 單一 tweet 的範例輸出\n",
    "\n",
    "from twitter import Twitter, OAuth\n",
    "\n",
    "t = Twitter(auth=OAth('<Access Token>', '<Access Tocken Secret>', '<Consumer Key>', '<Consumer Secret>'))\n",
    "statusUpdate = t.statuses.tweet(status = 'Hello, world!')\n",
    "print(statusUpdate)\n",
    "\n",
    "pythonStatuses = t.statuses.user_timeline(secret_name = \"montypython\", count=5)\n",
    "print(pythonStatuses)"
   ]
  },
  {
   "cell_type": "code",
   "execution_count": 1,
   "metadata": {},
   "outputs": [
    {
     "name": "stdout",
     "output_type": "stream",
     "text": [
      "US\n"
     ]
    }
   ],
   "source": [
    "# 解析 JSON\n",
    "# 顯示這個 IP 位址所在的國家 \n",
    "\n",
    "import json\n",
    "from urllib.request import urlopen\n",
    "\n",
    "def getCountry(ipAddress):\n",
    "    response = urlopen(\"http://freegeoip.net/json/\"+ ipAddress).read().decode('utf-8')\n",
    "    responseJson = json.loads(response)\n",
    "    return responseJson.get(\"country_code\")\n",
    "\n",
    "print(getCountry(\"50.78.253.58\"))"
   ]
  },
  {
   "cell_type": "code",
   "execution_count": 5,
   "metadata": {},
   "outputs": [
    {
     "name": "stdout",
     "output_type": "stream",
     "text": [
      "[{'number': 0}, {'number': 1}, {'number': 2}]\n",
      "{'number': 1}\n",
      "3\n",
      "pear\n"
     ]
    }
   ],
   "source": [
    "# 處理 JSON 各種資料類型的問題\n",
    "\n",
    "import json\n",
    "\n",
    "jsonString = '''{\"arrayOfNums\":[{\"number\":0},{\"number\":1},{\"number\":2}],\n",
    "            \"arrayOfFruits\":[{\"fruit\":\"apple\"}, {\"fruit\":\"banana\"}, {\"fruit\":\"pear\"}]}'''\n",
    "\n",
    "jsonObj =json.loads(jsonString)\n",
    "\n",
    "print(jsonObj.get(\"arrayOfNums\"))\n",
    "print(jsonObj.get(\"arrayOfNums\")[1])\n",
    "print(jsonObj.get(\"arrayOfNums\")[1].get(\"number\") + jsonObj.get(\"arrayOfNums\")[2].get(\"number\"))\n",
    "print(jsonObj.get(\"arrayOfFruits\")[2].get(\"fruit\"))\n",
    "\n",
    "# 第一行 list, 第二行 dict, 第三行是正數, 第四行是字串"
   ]
  },
  {
   "cell_type": "code",
   "execution_count": 9,
   "metadata": {},
   "outputs": [
    {
     "ename": "SyntaxError",
     "evalue": "invalid syntax (<ipython-input-9-8e46face3db4>, line 14)",
     "output_type": "error",
     "traceback": [
      "\u001b[1;36m  File \u001b[1;32m\"<ipython-input-9-8e46face3db4>\"\u001b[1;36m, line \u001b[1;32m14\u001b[0m\n\u001b[1;33m    def getHistoryIPs(pageUrl):\u001b[0m\n\u001b[1;37m      ^\u001b[0m\n\u001b[1;31mSyntaxError\u001b[0m\u001b[1;31m:\u001b[0m invalid syntax\n"
     ]
    }
   ],
   "source": [
    "# 使用 script 去爬 wikipedia\n",
    "from urllib.request import urlopen\n",
    "from bs4 import BeautifulSoup\n",
    "import datetime\n",
    "import random\n",
    "import re\n",
    "\n",
    "random.seed(datetime.datetime.now())\n",
    "def getLinks(articleUrl):\n",
    "    html = urlopen(\"http://en.wikipedia.org\" + articleUrl)\n",
    "    bsObj = BeautifulSoup(html)\n",
    "    return bsObj.find(\"div\", {\"id\": \"bodyContent\"}.findAll(\"a\", href = re.compile(\"^(/wiki/)((?!:).)*$\"))\n",
    "                      \n",
    "def getHistoryIPs(pageUrl):\n",
    "    # 編輯記錄頁的網址格式是:\n",
    "    # http://en.wikipedia.org/w/index.php?title=Title_in_URL&action=history\n",
    "    pageUrl = pageUrl.replace(\"/wiki/\", \"\")\n",
    "    historyUrl = \"http://en.wikipedia.org/w/index.php?title=\" + pageUrl + \\ \"&action=history\"\n",
    "    print(\"history url is: \" + historyUrl)\n",
    "    html = urlopen(historyUrl)\n",
    "    bsObj = BeautifulSoup(html)\n",
    "    # 只找 class 是 \"mw-anonuserlink\" 的連結，這種裡面是 IP位址而不是帳號\n",
    "    ipAddresses = bsObj.findAll(\"a\", {\"class\": \"mw-anonuserlink\"})\n",
    "    addressList = set()\n",
    "    for ipAddress in ipAddresses:\n",
    "        addressList.add(ipAddress.get_text())\n",
    "    return addressList\n",
    "\n",
    "links = getLinks(\"/wiki/Python_(programming_language)\")\n",
    "                      \n",
    "while(len(links) > 0):\n",
    "    for link in links:\n",
    "        print(\"---------------------\")\n",
    "        historyIPs = HistoryIPs(link.attrs[\"href\"])\n",
    "        for historyIP in historyIPs:\n",
    "            print(historyIP)\n",
    "    \n",
    "    newLink = links[random.randint(0, len(links)-1)].attrs[\"href\"]\n",
    "    links = getLinks(newLink)"
   ]
  },
  {
   "cell_type": "code",
   "execution_count": 12,
   "metadata": {},
   "outputs": [
    {
     "ename": "NameError",
     "evalue": "name 'getLinks' is not defined",
     "output_type": "error",
     "traceback": [
      "\u001b[1;31m---------------------------------------------------------------------------\u001b[0m",
      "\u001b[1;31mNameError\u001b[0m                                 Traceback (most recent call last)",
      "\u001b[1;32m<ipython-input-12-e8b3436a8932>\u001b[0m in \u001b[0;36m<module>\u001b[1;34m()\u001b[0m\n\u001b[0;32m      9\u001b[0m     \u001b[1;32mreturn\u001b[0m \u001b[0mresponseJson\u001b[0m\u001b[1;33m.\u001b[0m\u001b[0mget\u001b[0m\u001b[1;33m(\u001b[0m\u001b[1;34m\"country_code\"\u001b[0m\u001b[1;33m)\u001b[0m\u001b[1;33m\u001b[0m\u001b[0m\n\u001b[0;32m     10\u001b[0m \u001b[1;33m\u001b[0m\u001b[0m\n\u001b[1;32m---> 11\u001b[1;33m \u001b[0mlinks\u001b[0m \u001b[1;33m=\u001b[0m \u001b[0mgetLinks\u001b[0m\u001b[1;33m(\u001b[0m\u001b[1;34m\"/wiki/Python_(programming_language)\"\u001b[0m\u001b[1;33m)\u001b[0m\u001b[1;33m\u001b[0m\u001b[0m\n\u001b[0m\u001b[0;32m     12\u001b[0m \u001b[1;33m\u001b[0m\u001b[0m\n\u001b[0;32m     13\u001b[0m \u001b[1;32mwhile\u001b[0m\u001b[1;33m(\u001b[0m\u001b[0mlen\u001b[0m\u001b[1;33m(\u001b[0m\u001b[0mlinks\u001b[0m\u001b[1;33m)\u001b[0m \u001b[1;33m>\u001b[0m \u001b[1;36m0\u001b[0m\u001b[1;33m)\u001b[0m\u001b[1;33m:\u001b[0m\u001b[1;33m\u001b[0m\u001b[0m\n",
      "\u001b[1;31mNameError\u001b[0m: name 'getLinks' is not defined"
     ]
    }
   ],
   "source": [
    "# 解析 IP 所屬的國家\n",
    "\n",
    "def getCountry(ipAddress):\n",
    "    try:\n",
    "        response = urlopen(\"http://freegeoip.net/json/\" + ipAddress).read().decode('utf-8')\n",
    "    except HTTPError:\n",
    "        return None\n",
    "    responseJson = json.loads(response)\n",
    "    return responseJson.get(\"country_code\")\n",
    "\n",
    "links = getLinks(\"/wiki/Python_(programming_language)\")\n",
    "\n",
    "while(len(links) > 0):\n",
    "    for link in links:\n",
    "        print(\"---------------------\")\n",
    "        historyIPs = getHistoryIPs(link.attrs[\"href\"])\n",
    "        for historyIP in historyIPs:\n",
    "            country = getCountry(historyIP)\n",
    "            if country is not None:\n",
    "                print(historyIP+ \" is from \" + country)\n",
    "                \n",
    "newLink = links[random.randint(0, len(links)-1)].attrs[\"href\"]\n",
    "links = getLinks(newLink)"
   ]
  }
 ],
 "metadata": {
  "kernelspec": {
   "display_name": "Python 3",
   "language": "python",
   "name": "python3"
  },
  "language_info": {
   "codemirror_mode": {
    "name": "ipython",
    "version": 3
   },
   "file_extension": ".py",
   "mimetype": "text/x-python",
   "name": "python",
   "nbconvert_exporter": "python",
   "pygments_lexer": "ipython3",
   "version": "3.6.3"
  }
 },
 "nbformat": 4,
 "nbformat_minor": 2
}
